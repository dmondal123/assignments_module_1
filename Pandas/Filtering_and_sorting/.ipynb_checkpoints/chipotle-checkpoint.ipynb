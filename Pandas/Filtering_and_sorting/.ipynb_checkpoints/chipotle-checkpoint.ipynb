{
 "cells": [
  {
   "cell_type": "markdown",
   "id": "725f2065-eebd-4b4d-9ff4-7c89fa247016",
   "metadata": {},
   "source": [
    "Import the necessary libraries"
   ]
  },
  {
   "cell_type": "code",
   "execution_count": 1,
   "id": "b6280d4b-3f06-4317-aae6-d1206c38ace4",
   "metadata": {},
   "outputs": [],
   "source": [
    "import pandas as pd\n",
    "import numpy as np"
   ]
  },
  {
   "cell_type": "markdown",
   "id": "bed038de-5d08-4f01-8463-eb75d5984006",
   "metadata": {},
   "source": [
    "Import the dataset from this address."
   ]
  },
  {
   "cell_type": "code",
   "execution_count": 2,
   "id": "6e1d3de9-ab11-44ec-a192-780d4a764b8c",
   "metadata": {},
   "outputs": [],
   "source": [
    "url = 'https://raw.githubusercontent.com/justmarkham/DAT8/master/data/chipotle.tsv'"
   ]
  },
  {
   "cell_type": "markdown",
   "id": "1cd4fb3a-2f3b-4e94-825b-7e112568dc2f",
   "metadata": {},
   "source": [
    "Assign it to a variable called chipo."
   ]
  },
  {
   "cell_type": "code",
   "execution_count": 3,
   "id": "d55fd790-c53a-4654-91fd-9b3df09b582f",
   "metadata": {},
   "outputs": [],
   "source": [
    "chipo = pd.read_csv(url, sep='\\t')"
   ]
  },
  {
   "cell_type": "code",
   "execution_count": 21,
   "id": "c1f5f82a-f2a8-4f28-ba8c-fd61d24998c0",
   "metadata": {},
   "outputs": [
    {
     "data": {
      "text/plain": [
       "order_id                int64\n",
       "quantity                int64\n",
       "item_name              object\n",
       "choice_description     object\n",
       "item_price            float64\n",
       "price_per_item        float64\n",
       "dtype: object"
      ]
     },
     "execution_count": 21,
     "metadata": {},
     "output_type": "execute_result"
    }
   ],
   "source": [
    "chipo.dtypes"
   ]
  },
  {
   "cell_type": "markdown",
   "id": "60adc1f2-c267-44cf-96fc-5c328d9078a9",
   "metadata": {},
   "source": [
    "How many products cost more than $10.00?"
   ]
  },
  {
   "cell_type": "code",
   "execution_count": 29,
   "id": "97c03ffe-f20f-40c1-b25b-1780d7b25124",
   "metadata": {},
   "outputs": [
    {
     "data": {
      "text/plain": [
       "1130"
      ]
     },
     "execution_count": 29,
     "metadata": {},
     "output_type": "execute_result"
    }
   ],
   "source": [
    "products = chipo[chipo['item_price'] > 10]\n",
    "numproducts = len(products)\n",
    "numproducts"
   ]
  },
  {
   "cell_type": "markdown",
   "id": "a1b1cd3b-ae49-4c4f-8843-955afd359f24",
   "metadata": {},
   "source": [
    "What is the price of each item?"
   ]
  },
  {
   "cell_type": "code",
   "execution_count": 30,
   "id": "d364ba74-b598-4b66-a907-ab1f6946f9cb",
   "metadata": {},
   "outputs": [
    {
     "name": "stdout",
     "output_type": "stream",
     "text": [
      "item_name\n",
      "6 Pack Soft Drink                         6.610185\n",
      "Barbacoa Bowl                            10.187273\n",
      "Barbacoa Burrito                          9.832418\n",
      "Barbacoa Crispy Tacos                    10.928182\n",
      "Barbacoa Salad Bowl                      10.640000\n",
      "Barbacoa Soft Tacos                      10.018400\n",
      "Bottled Water                             1.867654\n",
      "Bowl                                     14.800000\n",
      "Burrito                                   7.400000\n",
      "Canned Soda                               1.320577\n",
      "Canned Soft Drink                         1.457641\n",
      "Carnitas Bowl                            10.833971\n",
      "Carnitas Burrito                         10.132712\n",
      "Carnitas Crispy Tacos                    11.137143\n",
      "Carnitas Salad                            8.990000\n",
      "Carnitas Salad Bowl                      11.056667\n",
      "Carnitas Soft Tacos                       9.398500\n",
      "Chicken Bowl                             10.113953\n",
      "Chicken Burrito                          10.082857\n",
      "Chicken Crispy Tacos                     10.045319\n",
      "Chicken Salad                             9.010000\n",
      "Chicken Salad Bowl                       11.170455\n",
      "Chicken Soft Tacos                        9.635565\n",
      "Chips                                     2.342844\n",
      "Chips and Fresh Tomato Salsa              3.285091\n",
      "Chips and Guacamole                       4.595073\n",
      "Chips and Mild Fresh Tomato Salsa         3.000000\n",
      "Chips and Roasted Chili Corn Salsa        3.084091\n",
      "Chips and Roasted Chili-Corn Salsa        2.390000\n",
      "Chips and Tomatillo Green Chili Salsa     3.087209\n",
      "Chips and Tomatillo Red Chili Salsa       3.072917\n",
      "Chips and Tomatillo-Green Chili Salsa     2.544194\n",
      "Chips and Tomatillo-Red Chili Salsa       2.987500\n",
      "Crispy Tacos                              7.400000\n",
      "Izze                                      3.390000\n",
      "Nantucket Nectar                          3.641111\n",
      "Salad                                     7.400000\n",
      "Side of Chips                             1.840594\n",
      "Steak Bowl                               10.711801\n",
      "Steak Burrito                            10.465842\n",
      "Steak Crispy Tacos                       10.209714\n",
      "Steak Salad                               8.915000\n",
      "Steak Salad Bowl                         11.847931\n",
      "Steak Soft Tacos                          9.746364\n",
      "Veggie Bowl                              10.211647\n",
      "Veggie Burrito                            9.839684\n",
      "Veggie Crispy Tacos                       8.490000\n",
      "Veggie Salad                              8.490000\n",
      "Veggie Salad Bowl                        10.138889\n",
      "Veggie Soft Tacos                        10.565714\n",
      "Name: item_price, dtype: float64\n"
     ]
    }
   ],
   "source": [
    "average = chipo.groupby('item_name')['item_price'].mean()\n",
    "print(average)"
   ]
  },
  {
   "cell_type": "markdown",
   "id": "e1374b22-5c0b-4580-8185-6dd804b5a9bc",
   "metadata": {},
   "source": [
    "Sort by the name of the item"
   ]
  },
  {
   "cell_type": "code",
   "execution_count": 31,
   "id": "76c52281-b11b-4f1c-8929-07fa6f2b5c1d",
   "metadata": {},
   "outputs": [
    {
     "data": {
      "text/plain": [
       "3389    6 Pack Soft Drink\n",
       "341     6 Pack Soft Drink\n",
       "1849    6 Pack Soft Drink\n",
       "1860    6 Pack Soft Drink\n",
       "2713    6 Pack Soft Drink\n",
       "              ...        \n",
       "2384    Veggie Soft Tacos\n",
       "781     Veggie Soft Tacos\n",
       "2851    Veggie Soft Tacos\n",
       "1699    Veggie Soft Tacos\n",
       "1395    Veggie Soft Tacos\n",
       "Name: item_name, Length: 4622, dtype: object"
      ]
     },
     "execution_count": 31,
     "metadata": {},
     "output_type": "execute_result"
    }
   ],
   "source": [
    "chipo.item_name.sort_values()"
   ]
  },
  {
   "cell_type": "markdown",
   "id": "054bdc1d-5416-4682-a7c2-c8fc5a10f83c",
   "metadata": {},
   "source": [
    "What was the quantity of the most expensive item ordered?"
   ]
  },
  {
   "cell_type": "code",
   "execution_count": 32,
   "id": "60e9f712-4279-48e6-b3c0-c6457cd94edc",
   "metadata": {},
   "outputs": [
    {
     "data": {
      "text/plain": [
       "3598    44.25\n",
       "Name: item_price, dtype: float64"
      ]
     },
     "execution_count": 32,
     "metadata": {},
     "output_type": "execute_result"
    }
   ],
   "source": [
    "chipo.item_price.sort_values(ascending=False).head(1)"
   ]
  },
  {
   "cell_type": "markdown",
   "id": "387c6cc9-e6ac-4058-86db-3fa3a684c0b7",
   "metadata": {},
   "source": [
    "How many times was a Veggie Salad Bowl ordered?"
   ]
  },
  {
   "cell_type": "code",
   "execution_count": 35,
   "id": "a6d3be1d-40a5-4436-a701-d1101756e026",
   "metadata": {},
   "outputs": [
    {
     "data": {
      "text/plain": [
       "18"
      ]
     },
     "execution_count": 35,
     "metadata": {},
     "output_type": "execute_result"
    }
   ],
   "source": [
    "veggie = chipo[chipo.item_name == 'Veggie Salad Bowl']\n",
    "len(veggie)"
   ]
  },
  {
   "cell_type": "markdown",
   "id": "45e2e958-c8b5-4017-8de2-cf1369885e96",
   "metadata": {},
   "source": [
    "How many times did someone order more than one Canned Soda?"
   ]
  },
  {
   "cell_type": "code",
   "execution_count": 38,
   "id": "72724b36-bade-49ba-b7f2-7e46911f3c6e",
   "metadata": {},
   "outputs": [
    {
     "data": {
      "text/plain": [
       "20"
      ]
     },
     "execution_count": 38,
     "metadata": {},
     "output_type": "execute_result"
    }
   ],
   "source": [
    "soda = chipo[(chipo.item_name == \"Canned Soda\") & (chipo.quantity > 1)]\n",
    "len(soda)"
   ]
  },
  {
   "cell_type": "code",
   "execution_count": null,
   "id": "ee535fb2-d6b6-4f23-91ae-1d6eea797231",
   "metadata": {},
   "outputs": [],
   "source": []
  }
 ],
 "metadata": {
  "kernelspec": {
   "display_name": "Python 3 (ipykernel)",
   "language": "python",
   "name": "python3"
  },
  "language_info": {
   "codemirror_mode": {
    "name": "ipython",
    "version": 3
   },
   "file_extension": ".py",
   "mimetype": "text/x-python",
   "name": "python",
   "nbconvert_exporter": "python",
   "pygments_lexer": "ipython3",
   "version": "3.12.1"
  }
 },
 "nbformat": 4,
 "nbformat_minor": 5
}
